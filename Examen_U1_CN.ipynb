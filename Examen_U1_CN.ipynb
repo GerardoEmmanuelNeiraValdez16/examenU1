{
  "nbformat": 4,
  "nbformat_minor": 0,
  "metadata": {
    "colab": {
      "provenance": [],
      "authorship_tag": "ABX9TyO/7a8y/oPlvg3Tg8Tw/F/v",
      "include_colab_link": true
    },
    "kernelspec": {
      "name": "python3",
      "display_name": "Python 3"
    },
    "language_info": {
      "name": "python"
    }
  },
  "cells": [
    {
      "cell_type": "markdown",
      "metadata": {
        "id": "view-in-github",
        "colab_type": "text"
      },
      "source": [
        "<a href=\"https://colab.research.google.com/github/GerardoEmmanuelNeiraValdez16/examenU1/blob/main/Examen_U1_CN.ipynb\" target=\"_parent\"><img src=\"https://colab.research.google.com/assets/colab-badge.svg\" alt=\"Open In Colab\"/></a>"
      ]
    },
    {
      "cell_type": "markdown",
      "source": [
        "Ejercicio 1: Es número primo o no es primo?"
      ],
      "metadata": {
        "id": "eNsKRO3nGZ5e"
      }
    },
    {
      "cell_type": "code",
      "execution_count": null,
      "metadata": {
        "colab": {
          "base_uri": "https://localhost:8080/"
        },
        "id": "On8bfdShGRU5",
        "outputId": "1947a4ba-86f0-4563-fcb4-cce9b221b8e8"
      },
      "outputs": [
        {
          "output_type": "stream",
          "name": "stdout",
          "text": [
            "Ingrese un número entero: 7\n",
            "7 es un número primo.\n"
          ]
        }
      ],
      "source": [
        "import math\n",
        "\n",
        "def num_primo(numero):\n",
        "    if numero <= 1:\n",
        "        return False\n",
        "    elif numero <= 3:\n",
        "        return True\n",
        "    elif numero % 2 == 0 or numero % 3 == 0:\n",
        "        return False\n",
        "    i = 5\n",
        "    while i * i <= numero:\n",
        "        if numero % i == 0 or numero % (i + 2) == 0:\n",
        "            return False\n",
        "        i += 6\n",
        "    return True\n",
        "\n",
        "try:\n",
        "    numero = int(input(\"Ingrese un número entero: \"))\n",
        "    if num_primo(numero):\n",
        "        print(f\"{numero} es un número primo.\")\n",
        "    else:\n",
        "        print(f\"{numero} no es un número primo.\")\n",
        "except ValueError:\n",
        "    print(\"Por favor, ingrese un número entero válido.\")\n"
      ]
    },
    {
      "cell_type": "markdown",
      "source": [
        "Ejercicio 2."
      ],
      "metadata": {
        "id": "DJ1oW_NoJJqu"
      }
    },
    {
      "cell_type": "code",
      "source": [
        "import math\n",
        "\n",
        "def es_primo(numero):\n",
        "    if numero <= 1:\n",
        "        return False\n",
        "    elif numero <= 3:\n",
        "        return True\n",
        "    elif numero % 2 == 0 or numero % 3 == 0:\n",
        "        return False\n",
        "    i = 5\n",
        "    while i * i <= numero:\n",
        "        if numero % i == 0 or numero % (i + 2) == 0:\n",
        "            return False\n",
        "        i += 6\n",
        "    return True\n",
        "\n",
        "\n",
        "def nextPrime(n):\n",
        "    siguiente_primo = n + 1\n",
        "    while True:\n",
        "        if es_primo(siguiente_primo):\n",
        "            return siguiente_primo\n",
        "        siguiente_primo += 1\n",
        "\n",
        "try:\n",
        "    numero = int(input(\"Ingrese un número entero: \"))\n",
        "    if num_primo(numero):\n",
        "        print(f\"{numero} es un número primo.\")\n",
        "    else:\n",
        "        print(f\"{numero} no es un número primo.\")\n",
        "    n = int(input(\"Ingrese un número entero: \"))\n",
        "    siguiente_primo = nextPrime(n)\n",
        "    print(f\"El primer número primo mayor que {n} es {siguiente_primo}.\")\n",
        "except ValueError:\n",
        "    print(\"Por favor, ingrese un número entero válido.\")\n"
      ],
      "metadata": {
        "colab": {
          "base_uri": "https://localhost:8080/"
        },
        "id": "BQKyOtKPIOSV",
        "outputId": "ce28383c-c0ee-4355-cb1d-3f7d5a185da6"
      },
      "execution_count": null,
      "outputs": [
        {
          "output_type": "stream",
          "name": "stdout",
          "text": [
            "Ingrese un número entero: 21\n",
            "21 no es un número primo.\n",
            "Ingrese un número entero: 9\n",
            "El primer número primo mayor que 9 es 11.\n"
          ]
        }
      ]
    },
    {
      "cell_type": "markdown",
      "source": [
        "ejercicio 3."
      ],
      "metadata": {
        "id": "ek_hM-qYJxet"
      }
    },
    {
      "cell_type": "code",
      "source": [
        "import math\n",
        "\n",
        "def val_med(num1, num2, num3):\n",
        "    # Ordena los números de menor a mayor\n",
        "    numeros = [num1, num2, num3]\n",
        "    numeros.sort()\n",
        "    # Devuelve el valor mediano\n",
        "    return numeros[1]\n",
        "\n",
        "try:\n",
        "    num1 = float(input(\"Digite el 1er número: \"))\n",
        "    num2 = float(input(\"Digite el 2do número: \"))\n",
        "    num3 = float(input(\"Digite el 3er número: \"))\n",
        "\n",
        "    mediana = val_med(num1, num2, num3)\n",
        "    print(f\"La mediana de los números ingresados es: {mediana}\")\n",
        "except ValueError:\n",
        "    print(\"No es un número. Intente de nuevo\")\n"
      ],
      "metadata": {
        "colab": {
          "base_uri": "https://localhost:8080/"
        },
        "id": "yFNotMvqJ0hu",
        "outputId": "25a603f9-36df-417c-9636-5fee7e84fc86"
      },
      "execution_count": null,
      "outputs": [
        {
          "output_type": "stream",
          "name": "stdout",
          "text": [
            "Digite el 1er número: 3\n",
            "Digite el 2do número: #\n",
            "No es un número. Intente de nuevo\n"
          ]
        }
      ]
    },
    {
      "cell_type": "markdown",
      "source": [
        "Ejercicio 4"
      ],
      "metadata": {
        "id": "9D2VFpgpLk1A"
      }
    },
    {
      "cell_type": "code",
      "source": [
        "import random\n",
        "\n",
        "def generar_contrasena_aleatoria():\n",
        "    # Longitud aleatoria entre 7 y 10 caracteres\n",
        "    longitud = random.randint(7, 10)\n",
        "\n",
        "    # Genera una contraseña aleatoria\n",
        "    contrasena = ''\n",
        "    for _ in range(longitud):\n",
        "        # Genera un número aleatorio entre 33 y 126 (tabla ASCII)\n",
        "        caracter_aleatorio = chr(random.randint(33, 126))\n",
        "        contrasena += caracter_aleatorio\n",
        "\n",
        "    return contrasena\n",
        "\n",
        "def main():\n",
        "    contrasena_generada = generar_contrasena_aleatoria()\n",
        "    print(f\"Contraseña generada: {contrasena_generada}\")\n",
        "\n",
        "if __name__ == \"__main__\":\n",
        "    main()\n"
      ],
      "metadata": {
        "colab": {
          "base_uri": "https://localhost:8080/"
        },
        "id": "p9Zg1HbNLmk_",
        "outputId": "91f9814d-67b4-4623-b315-de49eabc1d59"
      },
      "execution_count": null,
      "outputs": [
        {
          "output_type": "stream",
          "name": "stdout",
          "text": [
            "Contraseña generada: |Ew2jT'\n"
          ]
        }
      ]
    },
    {
      "cell_type": "markdown",
      "source": [
        "Ejercicio 5."
      ],
      "metadata": {
        "id": "PxGoMl82Q3rv"
      }
    },
    {
      "cell_type": "code",
      "source": [
        "import math\n",
        "\n",
        "def cal_hipotenusa(a, b):\n",
        "    # Utiliza el teorema de Pitágoras para calcular la hipotenusa\n",
        "    hipotenusa = math.sqrt(a**2 + b**2)\n",
        "    return hipotenusa\n",
        "\n",
        "def main():\n",
        "    try:\n",
        "        lado1 = float(input(\"Ingrese la longitud del primer lado corto: \"))\n",
        "        lado2 = float(input(\"Ingrese la longitud del segundo lado corto: \"))\n",
        "\n",
        "        hipotenusa = cal_hipotenusa(lado1, lado2)\n",
        "        print(f\"La longitud de la hipotenusa es: {hipotenusa}\")\n",
        "    except ValueError:\n",
        "        print(\"Longitudes invalidas.\")\n",
        "\n",
        "if __name__ == \"__main__\":\n",
        "    main()\n"
      ],
      "metadata": {
        "colab": {
          "base_uri": "https://localhost:8080/"
        },
        "id": "WGLa9lthQ51y",
        "outputId": "a9313a1a-972b-4f7f-a3b2-c771a85017c1"
      },
      "execution_count": null,
      "outputs": [
        {
          "output_type": "stream",
          "name": "stdout",
          "text": [
            "Ingrese la longitud del primer lado corto: 9\n",
            "Ingrese la longitud del segundo lado corto: 12\n",
            "La longitud de la hipotenusa es: 15.0\n"
          ]
        }
      ]
    }
  ]
}